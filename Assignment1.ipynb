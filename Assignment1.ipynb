{
  "nbformat": 4,
  "nbformat_minor": 0,
  "metadata": {
    "colab": {
      "provenance": [],
      "include_colab_link": true
    },
    "kernelspec": {
      "name": "python3",
      "display_name": "Python 3"
    },
    "language_info": {
      "name": "python"
    }
  },
  "cells": [
    {
      "cell_type": "markdown",
      "metadata": {
        "id": "view-in-github",
        "colab_type": "text"
      },
      "source": [
        "<a href=\"https://colab.research.google.com/github/dkp3012/assignment/blob/main/Assignment1.ipynb\" target=\"_parent\"><img src=\"https://colab.research.google.com/assets/colab-badge.svg\" alt=\"Open In Colab\"/></a>"
      ]
    },
    {
      "cell_type": "markdown",
      "source": [
        "##Q1.  Explore tools and basic Python programming concerning Machine learning"
      ],
      "metadata": {
        "id": "pKwCLfyVI9EZ"
      }
    },
    {
      "cell_type": "markdown",
      "source": [
        "# Python Libraries for Machine Learning\n",
        "\n",
        "Machine Learning is the science of programming a computer to learn from different kinds of data. A more general definition given by Arthur Samuel is – “Machine Learning is the field of study that gives computers the ability to learn without being explicitly programmed.”\n",
        "\n",
        "In the older days, people used to perform Machine Learning tasks by manually coding all the algorithms and mathematical and statistical formulas. This made the processing time-consuming, tedious, and inefficient. But in the modern days, it has become much easier and more efficient compared to the olden days with various Python libraries, frameworks, and modules. Today, Python is one of the most popular programming languages for this task, and it has replaced many languages in the industry, one of the reasons being its vast collection of libraries.\n",
        "\n",
        "Python libraries that are used in Machine Learning are:\n",
        "\n",
        "- Numpy\n",
        "- Scipy\n",
        "- Scikit-learn\n",
        "- Theano\n",
        "- TensorFlow\n",
        "- Keras\n",
        "- PyTorch\n",
        "- Pandas\n",
        "- Matplotlib\n"
      ],
      "metadata": {
        "id": "ZGEX5t6cIMZG"
      }
    },
    {
      "cell_type": "markdown",
      "source": [
        "##Pandas\n",
        "Pandas is a popular Python library for data analysis. It is not directly related to Machine Learning. As we know that the dataset must be prepared before training. In this case, Pandas comes handy as it was developed specifically for data extraction and preparation. It provides high-level data structures and wide variety tools for data analysis. It provides many inbuilt methods for grouping, combining and filtering data."
      ],
      "metadata": {
        "id": "ds86DaswUfv_"
      }
    },
    {
      "cell_type": "code",
      "source": [
        "# Python program using Pandas for\n",
        "# arranging a given set of data\n",
        "# into a table\n",
        "\n",
        "# importing pandas as pd\n",
        "import pandas as pd\n",
        "\n",
        "data = {\"country\": [\"Brazil\", \"Russia\", \"India\", \"China\", \"South Africa\"],\n",
        "\t\"capital\": [\"Brasilia\", \"Moscow\", \"New Delhi\", \"Beijing\", \"Pretoria\"],\n",
        "\t\"area\": [8.516, 17.10, 3.286, 9.597, 1.221],\n",
        "\t\"population\": [200.4, 143.5, 1252, 1357, 52.98] }\n",
        "\n",
        "data_table = pd.DataFrame(data)\n",
        "print(data_table)\n"
      ],
      "metadata": {
        "colab": {
          "base_uri": "https://localhost:8080/"
        },
        "id": "tM_GOTmpUfeQ",
        "outputId": "e6383a13-0d5e-4757-d023-13a4cca9b09e"
      },
      "execution_count": null,
      "outputs": [
        {
          "output_type": "stream",
          "name": "stdout",
          "text": [
            "        country    capital    area  population\n",
            "0        Brazil   Brasilia   8.516      200.40\n",
            "1        Russia     Moscow  17.100      143.50\n",
            "2         India  New Delhi   3.286     1252.00\n",
            "3         China    Beijing   9.597     1357.00\n",
            "4  South Africa   Pretoria   1.221       52.98\n"
          ]
        }
      ]
    },
    {
      "cell_type": "markdown",
      "source": [
        "##Matplotlib\n",
        "Matplotlib is a very popular Python library for data visualization. Like Pandas, it is not directly related to Machine Learning. It particularly comes in handy when a programmer wants to visualize the patterns in the data. It is a 2D plotting library used for creating 2D graphs and plots. A module named pyplot makes it easy for programmers for plotting as it provides features to control line styles, font properties, formatting axes, etc. It provides various kinds of graphs and plots for data visualization, viz., histogram, error charts, bar chats, etc,"
      ],
      "metadata": {
        "id": "pSFKl4LIUfAa"
      }
    },
    {
      "cell_type": "code",
      "source": [
        "import matplotlib.pyplot as plt\n",
        "import numpy as np\n",
        "\n",
        "# Generate some random data\n",
        "np.random.seed(0)\n",
        "X = np.random.randn(100)\n",
        "y = 2 * X + 1 + np.random.randn(100)\n",
        "\n",
        "# Fit a linear regression line\n",
        "m, b = np.polyfit(X, y, 1)\n",
        "\n",
        "# Plot the data and the linear regression line\n",
        "plt.scatter(X, y, color='blue', label='Data')\n",
        "plt.plot(X, m*X + b, color='red', label='Linear Regression')\n",
        "plt.title('Linear Regression')\n",
        "plt.xlabel('X')\n",
        "plt.ylabel('y')\n",
        "plt.legend()\n",
        "plt.show()\n"
      ],
      "metadata": {
        "colab": {
          "base_uri": "https://localhost:8080/",
          "height": 472
        },
        "id": "tn00JSRmUeqg",
        "outputId": "ab6a3674-acb6-4843-81ce-882052e075f0"
      },
      "execution_count": null,
      "outputs": [
        {
          "output_type": "display_data",
          "data": {
            "text/plain": [
              "<Figure size 640x480 with 1 Axes>"
            ],
            "image/png": "[encoded data removed]"
          },
          "metadata": {}
        }
      ]
    },
    {
      "cell_type": "markdown",
      "source": [
        "### Numpy\n",
        "\n",
        "Numpy is a very popular Python library for large multi-dimensional array and matrix processing, with the help of a large collection of high-level mathematical functions. It is very useful for fundamental scientific computations in Machine Learning. It is particularly useful for linear algebra, Fourier transform, and random number capabilities. High-end libraries like TensorFlow use NumPy internally for manipulation of Tensors."
      ],
      "metadata": {
        "id": "hEei8tESJ7nX"
      }
    },
    {
      "cell_type": "code",
      "execution_count": null,
      "metadata": {
        "colab": {
          "base_uri": "https://localhost:8080/"
        },
        "id": "loscM3umHFGx",
        "outputId": "7fea37b7-0890-49a1-c516-9aee68db930c"
      },
      "outputs": [
        {
          "output_type": "stream",
          "name": "stdout",
          "text": [
            "219 \n",
            "\n",
            "[29 67] \n",
            "\n",
            "[[19 22]\n",
            " [43 50]]\n"
          ]
        }
      ],
      "source": [
        "# Python program using NumPy\n",
        "import numpy as np\n",
        "# Creating two arrays of rank 2\n",
        "x = np.array([[1, 2], [3, 4]])\n",
        "y = np.array([[5, 6], [7, 8]])\n",
        "# Creating two arrays of rank 1\n",
        "v = np.array([9, 10])\n",
        "w = np.array([11, 12])\n",
        "# Inner product of vectors\n",
        "print(np.dot(v, w),\"\\n\")\n",
        "# Matrix and Vector product\n",
        "print(np.dot(x, v),\"\\n\")\n",
        "# Matrix and matrix product\n",
        "print(np.dot(x, y))"
      ]
    },
    {
      "cell_type": "markdown",
      "source": [
        "###SciPy\n",
        "SciPy is a very popular library among Machine Learning enthusiasts as it contains different modules for optimization, linear algebra, integration and statistics. There is a difference between the SciPy library and the SciPy stack. The SciPy is one of the core packages that make up the SciPy stack. SciPy is also very useful for image manipulation."
      ],
      "metadata": {
        "id": "3C9UcidDJ-6T"
      }
    },
    {
      "cell_type": "code",
      "source": [
        "# Importing necessary functions from SciPy\n",
        "from scipy.stats import linregress\n",
        "import numpy as np\n",
        "\n",
        "# Generating some random data for demonstration\n",
        "x = np.array([1, 2, 3, 4, 5])\n",
        "y = np.array([2, 3, 5, 4, 6])\n",
        "\n",
        "# Performing linear regression\n",
        "slope, intercept, r_value, p_value, std_err = linregress(x, y)\n",
        "\n",
        "# Printing the results\n",
        "print(\"Slope:\", slope)\n",
        "print(\"Intercept:\", intercept)\n",
        "print(\"R-squared value:\", r_value ** 2)\n",
        "print(\"P-value:\", p_value)\n",
        "print(\"Standard error:\", std_err)\n"
      ],
      "metadata": {
        "colab": {
          "base_uri": "https://localhost:8080/"
        },
        "id": "A55DO1gmLsMq",
        "outputId": "b530a4d1-a9da-4b3b-a03b-7b9dff2f38a9"
      },
      "execution_count": null,
      "outputs": [
        {
          "output_type": "stream",
          "name": "stdout",
          "text": [
            "Slope: 0.9\n",
            "Intercept: 1.2999999999999998\n",
            "R-squared value: 0.81\n",
            "P-value: 0.03738607346849863\n",
            "Standard error: 0.25166114784235827\n"
          ]
        }
      ]
    },
    {
      "cell_type": "markdown",
      "source": [
        "\n",
        "##Scikit-learn\n",
        "Scikit-learn is one of the most popular ML libraries for classical ML algorithms. It is built on top of two basic Python libraries, viz., NumPy and SciPy. Scikit-learn supports most of the supervised and unsupervised learning algorithms. Scikit-learn can also be used for data-mining and data-analysis, which makes it a great tool who is starting out with ML."
      ],
      "metadata": {
        "id": "IT8kJgaQPgox"
      }
    },
    {
      "cell_type": "code",
      "source": [
        "import numpy as np\n",
        "import matplotlib.pyplot as plt\n",
        "from sklearn import datasets\n",
        "from sklearn.model_selection import train_test_split\n",
        "from sklearn.svm import SVC\n",
        "from sklearn.metrics import accuracy_score, classification_report\n",
        "\n",
        "# Load the Iris dataset\n",
        "iris = datasets.load_iris()\n",
        "X = iris.data\n",
        "y = iris.target\n",
        "\n",
        "# Split the data into training and testing sets\n",
        "X_train, X_test, y_train, y_test = train_test_split(X, y, test_size=0.2, random_state=42)\n",
        "\n",
        "# Create the SVM classifier\n",
        "clf = SVC(kernel='linear')\n",
        "\n",
        "# Train the classifier\n",
        "clf.fit(X_train, y_train)\n",
        "\n",
        "# Make predictions on the test set\n",
        "y_pred = clf.predict(X_test)\n",
        "\n",
        "# Calculate accuracy\n",
        "accuracy = accuracy_score(y_test, y_pred)\n",
        "print(\"Accuracy:\", accuracy)\n",
        "\n",
        "# Display classification report\n",
        "print(\"Classification Report:\")\n",
        "print(classification_report(y_test, y_pred))\n"
      ],
      "metadata": {
        "colab": {
          "base_uri": "https://localhost:8080/"
        },
        "id": "CUlD4Hd8KbZt",
        "outputId": "e0ed0aa5-1581-42e4-ba09-959623dfc2a4"
      },
      "execution_count": null,
      "outputs": [
        {
          "output_type": "stream",
          "name": "stdout",
          "text": [
            "Accuracy: 1.0\n",
            "Classification Report:\n",
            "              precision    recall  f1-score   support\n",
            "\n",
            "           0       1.00      1.00      1.00        10\n",
            "           1       1.00      1.00      1.00         9\n",
            "           2       1.00      1.00      1.00        11\n",
            "\n",
            "    accuracy                           1.00        30\n",
            "   macro avg       1.00      1.00      1.00        30\n",
            "weighted avg       1.00      1.00      1.00        30\n",
            "\n"
          ]
        }
      ]
    },
    {
      "cell_type": "markdown",
      "source": [
        "## TensorFlow\n",
        "TensorFlow is a very popular open-source library for high performance numerical computation developed by the Google Brain team in Google. As the name suggests, Tensorflow is a framework that involves defining and running computations involving tensors. It can train and run deep neural networks that can be used to develop several AI applications. TensorFlow is widely used in the field of deep learning research and application."
      ],
      "metadata": {
        "id": "tlGq1MwOQJCC"
      }
    },
    {
      "cell_type": "code",
      "source": [
        "import tensorflow as tf\n",
        "import numpy as np\n",
        "\n",
        "# Generate random data\n",
        "np.random.seed(0)\n",
        "X = np.random.rand(100, 1)  # Features\n",
        "y = 2 * X + 1 + np.random.randn(100, 1) * 0.1  # Labels with noise\n",
        "\n",
        "# Define the model\n",
        "model = tf.keras.Sequential([\n",
        "    tf.keras.layers.Dense(1, input_shape=(1,))\n",
        "])\n",
        "\n",
        "# Compile the model\n",
        "model.compile(optimizer='sgd', loss='mse')  # Using stochastic gradient descent (SGD) and mean squared error (MSE)\n",
        "\n",
        "# Train the model\n",
        "model.fit(X, y, epochs=100)  # Train for 100 epochs\n",
        "\n",
        "# Print trained parameters\n",
        "print(\"Trained parameters:\")\n",
        "print(\"Weight:\", model.layers[0].get_weights()[0][0])  # Weight parameter\n",
        "print(\"Bias:\", model.layers[0].get_weights()[1][0])  # Bias parameter\n"
      ],
      "metadata": {
        "colab": {
          "base_uri": "https://localhost:8080/"
        },
        "id": "pM9whF67QIr8",
        "outputId": "8f486d5d-8675-432b-9ab5-d7ae33d6aa80"
      },
      "execution_count": null,
      "outputs": [
        {
          "output_type": "stream",
          "name": "stdout",
          "text": [
            "Epoch 1/100\n",
            "4/4 [==============================] - 0s 4ms/step - loss: 6.8877\n",
            "Epoch 2/100\n",
            "4/4 [==============================] - 0s 5ms/step - loss: 5.7868\n",
            "Epoch 3/100\n",
            "4/4 [==============================] - 0s 4ms/step - loss: 4.7994\n",
            "Epoch 4/100\n",
            "4/4 [==============================] - 0s 4ms/step - loss: 4.0012\n",
            "Epoch 5/100\n",
            "4/4 [==============================] - 0s 3ms/step - loss: 3.2841\n",
            "Epoch 6/100\n",
            "4/4 [==============================] - 0s 5ms/step - loss: 2.7620\n",
            "Epoch 7/100\n",
            "4/4 [==============================] - 0s 4ms/step - loss: 2.3049\n",
            "Epoch 8/100\n",
            "4/4 [==============================] - 0s 3ms/step - loss: 1.9523\n",
            "Epoch 9/100\n",
            "4/4 [==============================] - 0s 4ms/step - loss: 1.6985\n",
            "Epoch 10/100\n",
            "4/4 [==============================] - 0s 4ms/step - loss: 1.4255\n",
            "Epoch 11/100\n",
            "4/4 [==============================] - 0s 3ms/step - loss: 1.2293\n",
            "Epoch 12/100\n",
            "4/4 [==============================] - 0s 4ms/step - loss: 1.0707\n",
            "Epoch 13/100\n",
            "4/4 [==============================] - 0s 3ms/step - loss: 0.9396\n",
            "Epoch 14/100\n",
            "4/4 [==============================] - 0s 4ms/step - loss: 0.8361\n",
            "Epoch 15/100\n",
            "4/4 [==============================] - 0s 3ms/step - loss: 0.7459\n",
            "Epoch 16/100\n",
            "4/4 [==============================] - 0s 4ms/step - loss: 0.6725\n",
            "Epoch 17/100\n",
            "4/4 [==============================] - 0s 4ms/step - loss: 0.5988\n",
            "Epoch 18/100\n",
            "4/4 [==============================] - 0s 4ms/step - loss: 0.5538\n",
            "Epoch 19/100\n",
            "4/4 [==============================] - 0s 4ms/step - loss: 0.5180\n",
            "Epoch 20/100\n",
            "4/4 [==============================] - 0s 4ms/step - loss: 0.4741\n",
            "Epoch 21/100\n",
            "4/4 [==============================] - 0s 3ms/step - loss: 0.4504\n",
            "Epoch 22/100\n",
            "4/4 [==============================] - 0s 4ms/step - loss: 0.4225\n",
            "Epoch 23/100\n",
            "4/4 [==============================] - 0s 4ms/step - loss: 0.3968\n",
            "Epoch 24/100\n",
            "4/4 [==============================] - 0s 4ms/step - loss: 0.3771\n",
            "Epoch 25/100\n",
            "4/4 [==============================] - 0s 4ms/step - loss: 0.3612\n",
            "Epoch 26/100\n",
            "4/4 [==============================] - 0s 4ms/step - loss: 0.3486\n",
            "Epoch 27/100\n",
            "4/4 [==============================] - 0s 4ms/step - loss: 0.3356\n",
            "Epoch 28/100\n",
            "4/4 [==============================] - 0s 4ms/step - loss: 0.3252\n",
            "Epoch 29/100\n",
            "4/4 [==============================] - 0s 4ms/step - loss: 0.3140\n",
            "Epoch 30/100\n",
            "4/4 [==============================] - 0s 4ms/step - loss: 0.3068\n",
            "Epoch 31/100\n",
            "4/4 [==============================] - 0s 4ms/step - loss: 0.3016\n",
            "Epoch 32/100\n",
            "4/4 [==============================] - 0s 4ms/step - loss: 0.2957\n",
            "Epoch 33/100\n",
            "4/4 [==============================] - 0s 3ms/step - loss: 0.2904\n",
            "Epoch 34/100\n",
            "4/4 [==============================] - 0s 3ms/step - loss: 0.2863\n",
            "Epoch 35/100\n",
            "4/4 [==============================] - 0s 4ms/step - loss: 0.2820\n",
            "Epoch 36/100\n",
            "4/4 [==============================] - 0s 4ms/step - loss: 0.2771\n",
            "Epoch 37/100\n",
            "4/4 [==============================] - 0s 4ms/step - loss: 0.2709\n",
            "Epoch 38/100\n",
            "4/4 [==============================] - 0s 4ms/step - loss: 0.2679\n",
            "Epoch 39/100\n",
            "4/4 [==============================] - 0s 4ms/step - loss: 0.2641\n",
            "Epoch 40/100\n",
            "4/4 [==============================] - 0s 4ms/step - loss: 0.2605\n",
            "Epoch 41/100\n",
            "4/4 [==============================] - 0s 4ms/step - loss: 0.2573\n",
            "Epoch 42/100\n",
            "4/4 [==============================] - 0s 4ms/step - loss: 0.2549\n",
            "Epoch 43/100\n",
            "4/4 [==============================] - 0s 4ms/step - loss: 0.2529\n",
            "Epoch 44/100\n",
            "4/4 [==============================] - 0s 4ms/step - loss: 0.2506\n",
            "Epoch 45/100\n",
            "4/4 [==============================] - 0s 4ms/step - loss: 0.2475\n",
            "Epoch 46/100\n",
            "4/4 [==============================] - 0s 4ms/step - loss: 0.2450\n",
            "Epoch 47/100\n",
            "4/4 [==============================] - 0s 4ms/step - loss: 0.2428\n",
            "Epoch 48/100\n",
            "4/4 [==============================] - 0s 4ms/step - loss: 0.2400\n",
            "Epoch 49/100\n",
            "4/4 [==============================] - 0s 4ms/step - loss: 0.2382\n",
            "Epoch 50/100\n",
            "4/4 [==============================] - 0s 4ms/step - loss: 0.2353\n",
            "Epoch 51/100\n",
            "4/4 [==============================] - 0s 4ms/step - loss: 0.2325\n",
            "Epoch 52/100\n",
            "4/4 [==============================] - 0s 5ms/step - loss: 0.2302\n",
            "Epoch 53/100\n",
            "4/4 [==============================] - 0s 4ms/step - loss: 0.2279\n",
            "Epoch 54/100\n",
            "4/4 [==============================] - 0s 3ms/step - loss: 0.2258\n",
            "Epoch 55/100\n",
            "4/4 [==============================] - 0s 5ms/step - loss: 0.2231\n",
            "Epoch 56/100\n",
            "4/4 [==============================] - 0s 3ms/step - loss: 0.2206\n",
            "Epoch 57/100\n",
            "4/4 [==============================] - 0s 4ms/step - loss: 0.2187\n",
            "Epoch 58/100\n",
            "4/4 [==============================] - 0s 5ms/step - loss: 0.2166\n",
            "Epoch 59/100\n",
            "4/4 [==============================] - 0s 4ms/step - loss: 0.2144\n",
            "Epoch 60/100\n",
            "4/4 [==============================] - 0s 4ms/step - loss: 0.2117\n",
            "Epoch 61/100\n",
            "4/4 [==============================] - 0s 4ms/step - loss: 0.2095\n",
            "Epoch 62/100\n",
            "4/4 [==============================] - 0s 5ms/step - loss: 0.2073\n",
            "Epoch 63/100\n",
            "4/4 [==============================] - 0s 4ms/step - loss: 0.2053\n",
            "Epoch 64/100\n",
            "4/4 [==============================] - 0s 4ms/step - loss: 0.2034\n",
            "Epoch 65/100\n",
            "4/4 [==============================] - 0s 4ms/step - loss: 0.2012\n",
            "Epoch 66/100\n",
            "4/4 [==============================] - 0s 4ms/step - loss: 0.1995\n",
            "Epoch 67/100\n",
            "4/4 [==============================] - 0s 4ms/step - loss: 0.1973\n",
            "Epoch 68/100\n",
            "4/4 [==============================] - 0s 4ms/step - loss: 0.1954\n",
            "Epoch 69/100\n",
            "4/4 [==============================] - 0s 4ms/step - loss: 0.1932\n",
            "Epoch 70/100\n",
            "4/4 [==============================] - 0s 4ms/step - loss: 0.1915\n",
            "Epoch 71/100\n",
            "4/4 [==============================] - 0s 3ms/step - loss: 0.1896\n",
            "Epoch 72/100\n",
            "4/4 [==============================] - 0s 4ms/step - loss: 0.1879\n",
            "Epoch 73/100\n",
            "4/4 [==============================] - 0s 4ms/step - loss: 0.1857\n",
            "Epoch 74/100\n",
            "4/4 [==============================] - 0s 4ms/step - loss: 0.1840\n",
            "Epoch 75/100\n",
            "4/4 [==============================] - 0s 3ms/step - loss: 0.1823\n",
            "Epoch 76/100\n",
            "4/4 [==============================] - 0s 3ms/step - loss: 0.1806\n",
            "Epoch 77/100\n",
            "4/4 [==============================] - 0s 4ms/step - loss: 0.1787\n",
            "Epoch 78/100\n",
            "4/4 [==============================] - 0s 4ms/step - loss: 0.1768\n",
            "Epoch 79/100\n",
            "4/4 [==============================] - 0s 4ms/step - loss: 0.1749\n",
            "Epoch 80/100\n",
            "4/4 [==============================] - 0s 4ms/step - loss: 0.1734\n",
            "Epoch 81/100\n",
            "4/4 [==============================] - 0s 4ms/step - loss: 0.1714\n",
            "Epoch 82/100\n",
            "4/4 [==============================] - 0s 4ms/step - loss: 0.1696\n",
            "Epoch 83/100\n",
            "4/4 [==============================] - 0s 3ms/step - loss: 0.1678\n",
            "Epoch 84/100\n",
            "4/4 [==============================] - 0s 3ms/step - loss: 0.1659\n",
            "Epoch 85/100\n",
            "4/4 [==============================] - 0s 4ms/step - loss: 0.1640\n",
            "Epoch 86/100\n",
            "4/4 [==============================] - 0s 4ms/step - loss: 0.1621\n",
            "Epoch 87/100\n",
            "4/4 [==============================] - 0s 5ms/step - loss: 0.1605\n",
            "Epoch 88/100\n",
            "4/4 [==============================] - 0s 4ms/step - loss: 0.1590\n",
            "Epoch 89/100\n",
            "4/4 [==============================] - 0s 4ms/step - loss: 0.1574\n",
            "Epoch 90/100\n",
            "4/4 [==============================] - 0s 4ms/step - loss: 0.1561\n",
            "Epoch 91/100\n",
            "4/4 [==============================] - 0s 4ms/step - loss: 0.1543\n",
            "Epoch 92/100\n",
            "4/4 [==============================] - 0s 4ms/step - loss: 0.1528\n",
            "Epoch 93/100\n",
            "4/4 [==============================] - 0s 5ms/step - loss: 0.1514\n",
            "Epoch 94/100\n",
            "4/4 [==============================] - 0s 5ms/step - loss: 0.1500\n",
            "Epoch 95/100\n",
            "4/4 [==============================] - 0s 4ms/step - loss: 0.1485\n",
            "Epoch 96/100\n",
            "4/4 [==============================] - 0s 4ms/step - loss: 0.1472\n",
            "Epoch 97/100\n",
            "4/4 [==============================] - 0s 4ms/step - loss: 0.1457\n",
            "Epoch 98/100\n",
            "4/4 [==============================] - 0s 4ms/step - loss: 0.1447\n",
            "Epoch 99/100\n",
            "4/4 [==============================] - 0s 4ms/step - loss: 0.1431\n",
            "Epoch 100/100\n",
            "4/4 [==============================] - 0s 7ms/step - loss: 0.1418\n",
            "Trained parameters:\n",
            "Weight: [0.74438334]\n",
            "Bias: 1.6457628\n"
          ]
        }
      ]
    },
    {
      "cell_type": "markdown",
      "source": [
        "##Keras\n",
        "\n",
        "Keras is a very popular Machine Learning library for Python. It is a high-level neural networks API capable of running on top of TensorFlow, CNTK, or Theano. It can run seamlessly on both CPU and GPU. Keras makes it really for ML beginners to build and design a Neural Network. One of the best thing about Keras is that it allows for easy and fast prototyping."
      ],
      "metadata": {
        "id": "gH0Vf3GrSeSM"
      }
    },
    {
      "cell_type": "code",
      "source": [
        "import tensorflow as tf\n",
        "from tensorflow.keras.datasets import mnist\n",
        "from tensorflow.keras.models import Sequential\n",
        "from tensorflow.keras.layers import Dense, Flatten\n",
        "\n",
        "# Load and preprocess the MNIST dataset\n",
        "(x_train, y_train), (x_test, y_test) = mnist.load_data()\n",
        "x_train, x_test = x_train / 255.0, x_test / 255.0\n",
        "\n",
        "# Define the model architecture\n",
        "model = Sequential([\n",
        "    Flatten(input_shape=(28, 28)),  # Flatten the input images\n",
        "    Dense(128, activation='relu'),  # Fully connected layer with 128 units and ReLU activation\n",
        "    Dense(10, activation='softmax')  # Output layer with 10 units (one for each class) and softmax activation\n",
        "])\n",
        "\n",
        "# Compile the model\n",
        "model.compile(optimizer='adam',\n",
        "              loss='sparse_categorical_crossentropy',\n",
        "              metrics=['accuracy'])\n",
        "\n",
        "# Train the model\n",
        "model.fit(x_train, y_train, epochs=5)\n",
        "\n",
        "# Evaluate the model\n",
        "test_loss, test_acc = model.evaluate(x_test, y_test)\n",
        "print('\\nTest accuracy:', test_acc)\n"
      ],
      "metadata": {
        "colab": {
          "base_uri": "https://localhost:8080/"
        },
        "id": "rdpuzThDRkei",
        "outputId": "b4d0d5d9-23b3-4b09-bcdb-657ebab442a7"
      },
      "execution_count": null,
      "outputs": [
        {
          "output_type": "stream",
          "name": "stdout",
          "text": [
            "Epoch 1/5\n",
            "1875/1875 [==============================] - 9s 4ms/step - loss: 0.2615 - accuracy: 0.9255\n",
            "Epoch 2/5\n",
            "1875/1875 [==============================] - 9s 5ms/step - loss: 0.1178 - accuracy: 0.9644\n",
            "Epoch 3/5\n",
            "1875/1875 [==============================] - 8s 4ms/step - loss: 0.0813 - accuracy: 0.9755\n",
            "Epoch 4/5\n",
            "1875/1875 [==============================] - 7s 4ms/step - loss: 0.0609 - accuracy: 0.9810\n",
            "Epoch 5/5\n",
            "1875/1875 [==============================] - 8s 4ms/step - loss: 0.0463 - accuracy: 0.9859\n",
            "313/313 [==============================] - 1s 4ms/step - loss: 0.0698 - accuracy: 0.9784\n",
            "\n",
            "Test accuracy: 0.9783999919891357\n"
          ]
        }
      ]
    },
    {
      "cell_type": "markdown",
      "source": [
        "###PyTorch\n",
        "PyTorch is a popular open-source Machine Learning library for Python based on Torch, which is an open-source Machine Learning library that is implemented in C with a wrapper in Lua. It has an extensive choice of tools and libraries that support Computer Vision, Natural Language Processing(NLP), and many more ML programs. It allows developers to perform computations on Tensors with GPU acceleration and also helps in creating computational graphs."
      ],
      "metadata": {
        "id": "9HO_YY3AU2kL"
      }
    },
    {
      "cell_type": "code",
      "source": [
        "import torch\n",
        "\n",
        "# Input data\n",
        "X = torch.tensor([[1], [2], [3], [4]], dtype=torch.float32)\n",
        "y = torch.tensor([[2], [4], [6], [8]], dtype=torch.float32)\n",
        "\n",
        "# Model\n",
        "model = torch.nn.Linear(1, 1)\n",
        "\n",
        "# Loss function and optimizer\n",
        "criterion = torch.nn.MSELoss()\n",
        "optimizer = torch.optim.SGD(model.parameters(), lr=0.01)\n",
        "\n",
        "# Training loop\n",
        "num_epochs = 100\n",
        "for epoch in range(num_epochs):\n",
        "    # Forward pass\n",
        "    outputs = model(X)\n",
        "    loss = criterion(outputs, y)\n",
        "\n",
        "    # Backward pass and optimization\n",
        "    optimizer.zero_grad()\n",
        "    loss.backward()\n",
        "    optimizer.step()\n",
        "\n",
        "    if (epoch+1) % 10 == 0:\n",
        "        print(f'Epoch [{epoch+1}/{num_epochs}], Loss: {loss.item():.4f}')\n",
        "\n",
        "# Print trained parameters\n",
        "print(\"Trained parameters:\")\n",
        "for name, param in model.named_parameters():\n",
        "    print(name, param.item())\n"
      ],
      "metadata": {
        "colab": {
          "base_uri": "https://localhost:8080/"
        },
        "id": "OQc6S4XCU1fx",
        "outputId": "4d3d9366-307a-4af0-d15d-c5d7e19f4151"
      },
      "execution_count": null,
      "outputs": [
        {
          "output_type": "stream",
          "name": "stdout",
          "text": [
            "Epoch [10/100], Loss: 2.4481\n",
            "Epoch [20/100], Loss: 0.1351\n",
            "Epoch [30/100], Loss: 0.0711\n",
            "Epoch [40/100], Loss: 0.0655\n",
            "Epoch [50/100], Loss: 0.0616\n",
            "Epoch [60/100], Loss: 0.0580\n",
            "Epoch [70/100], Loss: 0.0547\n",
            "Epoch [80/100], Loss: 0.0515\n",
            "Epoch [90/100], Loss: 0.0485\n",
            "Epoch [100/100], Loss: 0.0457\n",
            "Trained parameters:\n",
            "weight 1.8227077722549438\n",
            "bias 0.5212607383728027\n"
          ]
        }
      ]
    }
  ]
}